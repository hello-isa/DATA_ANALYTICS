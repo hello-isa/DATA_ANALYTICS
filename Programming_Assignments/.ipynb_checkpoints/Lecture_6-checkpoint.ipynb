{
 "cells": [
  {
   "cell_type": "markdown",
   "id": "82426f4c-6e10-4797-ac22-0764033817ab",
   "metadata": {},
   "source": [
    "# Select Dataset\n",
    "* Wholesale customers: https://archive.ics.uci.edu/dataset/292/wholesale+customers\n",
    "* The data set refers to clients of a wholesale distributor. It includes the annual spending in monetary units (m.u.) on diverse product categories."
   ]
  },
  {
   "cell_type": "code",
   "execution_count": 5,
   "id": "fca5e98d-1e69-4b13-9ac1-347660979f6f",
   "metadata": {
    "tags": []
   },
   "outputs": [
    {
     "name": "stdout",
     "output_type": "stream",
     "text": [
      "{'uci_id': 292, 'name': 'Wholesale customers', 'repository_url': 'https://archive.ics.uci.edu/dataset/292/wholesale+customers', 'data_url': 'https://archive.ics.uci.edu/static/public/292/data.csv', 'abstract': 'The data set refers to clients of a wholesale distributor. It includes the annual spending in monetary units (m.u.) on diverse product categories', 'area': 'Business', 'tasks': ['Classification', 'Clustering'], 'characteristics': ['Multivariate'], 'num_instances': 440, 'num_features': 7, 'feature_types': ['Integer'], 'demographics': [], 'target_col': ['Region'], 'index_col': None, 'has_missing_values': 'no', 'missing_values_symbol': None, 'year_of_dataset_creation': 2013, 'last_updated': 'Mon Feb 05 2024', 'dataset_doi': '10.24432/C5030X', 'creators': ['Margarida Cardoso'], 'intro_paper': None, 'additional_info': {'summary': None, 'purpose': None, 'funded_by': None, 'instances_represent': None, 'recommended_data_splits': None, 'sensitive_data': None, 'preprocessing_description': None, 'variable_info': '1)\\tFRESH: annual spending (m.u.) on fresh products (Continuous);\\r\\n2)\\tMILK: annual spending (m.u.) on milk products (Continuous);\\r\\n3)\\tGROCERY: annual spending (m.u.)on grocery products (Continuous);\\r\\n4)\\tFROZEN: annual spending (m.u.)on frozen products (Continuous)\\r\\n5)\\tDETERGENTS_PAPER: annual spending (m.u.) on detergents and paper products (Continuous) \\r\\n6)\\tDELICATESSEN: annual spending (m.u.)on and delicatessen products (Continuous); \\r\\n7)\\tCHANNEL: customersâ€™ Channel - Horeca (Hotel/Restaurant/CafÃ©) or Retail channel (Nominal)\\r\\n8)\\tREGION: customersâ€™ Region â€“ Lisnon, Oporto or Other (Nominal)\\r\\nDescriptive Statistics:\\r\\n\\r\\n\\t(Minimum, Maximum, Mean, Std. Deviation)\\r\\nFRESH (\\t3, 112151, 12000.30, 12647.329)\\r\\nMILK\\t(55, 73498, 5796.27, 7380.377)\\r\\nGROCERY\\t(3, 92780, 7951.28, 9503.163)\\r\\nFROZEN\\t(25, 60869, 3071.93, 4854.673)\\r\\nDETERGENTS_PAPER (3, 40827, 2881.49, 4767.854)\\r\\nDELICATESSEN (3, 47943, 1524.87, 2820.106)\\r\\n\\r\\nREGION\\tFrequency\\r\\nLisbon\\t77\\r\\nOporto\\t47\\r\\nOther Region\\t316\\r\\nTotal\\t440\\r\\n\\r\\nCHANNEL\\tFrequency\\r\\nHoreca\\t298\\r\\nRetail\\t142\\r\\nTotal\\t440\\r\\n', 'citation': None}}\n",
      "               name     role         type demographic description units  \\\n",
      "0           Channel  Feature  Categorical        None        None  None   \n",
      "1            Region   Target  Categorical        None        None  None   \n",
      "2             Fresh  Feature      Integer        None        None  None   \n",
      "3              Milk  Feature      Integer        None        None  None   \n",
      "4           Grocery  Feature      Integer        None        None  None   \n",
      "5            Frozen  Feature      Integer        None        None  None   \n",
      "6  Detergents_Paper  Feature      Integer        None        None  None   \n",
      "7        Delicassen  Feature      Integer        None        None  None   \n",
      "\n",
      "  missing_values  \n",
      "0             no  \n",
      "1             no  \n",
      "2             no  \n",
      "3             no  \n",
      "4             no  \n",
      "5             no  \n",
      "6             no  \n",
      "7             no  \n"
     ]
    }
   ],
   "source": [
    "from ucimlrepo import fetch_ucirepo \n",
    "  \n",
    "# fetch dataset \n",
    "wholesale_customers = fetch_ucirepo(id=292) \n",
    "  \n",
    "# data (as pandas dataframes) \n",
    "X = wholesale_customers.data.features \n",
    "y = wholesale_customers.data.targets \n",
    "  \n",
    "# metadata \n",
    "print(wholesale_customers.metadata) \n",
    "  \n",
    "# variable information \n",
    "print(wholesale_customers.variables) "
   ]
  },
  {
   "cell_type": "code",
   "execution_count": 31,
   "id": "9c93da6c-1236-41a2-ae20-0a91416c91fa",
   "metadata": {
    "tags": []
   },
   "outputs": [
    {
     "name": "stdout",
     "output_type": "stream",
     "text": [
      "     Channel  Fresh   Milk  Grocery  Frozen  Detergents_Paper  Delicassen  \\\n",
      "0          2  12669   9656     7561     214              2674        1338   \n",
      "1          2   7057   9810     9568    1762              3293        1776   \n",
      "2          2   6353   8808     7684    2405              3516        7844   \n",
      "3          1  13265   1196     4221    6404               507        1788   \n",
      "4          2  22615   5410     7198    3915              1777        5185   \n",
      "..       ...    ...    ...      ...     ...               ...         ...   \n",
      "435        1  29703  12051    16027   13135               182        2204   \n",
      "436        1  39228   1431      764    4510                93        2346   \n",
      "437        2  14531  15488    30243     437             14841        1867   \n",
      "438        1  10290   1981     2232    1038               168        2125   \n",
      "439        1   2787   1698     2510      65               477          52   \n",
      "\n",
      "     Region  \n",
      "0         3  \n",
      "1         3  \n",
      "2         3  \n",
      "3         3  \n",
      "4         3  \n",
      "..      ...  \n",
      "435       3  \n",
      "436       3  \n",
      "437       3  \n",
      "438       3  \n",
      "439       3  \n",
      "\n",
      "[440 rows x 8 columns]\n"
     ]
    }
   ],
   "source": [
    "# Import libraries\n",
    "import pandas as pd\n",
    "import numpy as np\n",
    "import seaborn as sns\n",
    "import matplotlib.pyplot as plt\n",
    "\n",
    "# Concatenate features (X) and target (y) into a DataFrame\n",
    "df = pd.concat([X, y], axis=1)\n",
    "print(df)"
   ]
  },
  {
   "cell_type": "markdown",
   "id": "8abe72fa-0be4-4956-a96d-967279377470",
   "metadata": {},
   "source": [
    "## Perform One-Hot Encoding for Categorical Features\n",
    "* KNN relies on distance metrics to find the nearest neighbors. These metrics require numerical values. Categorical features need to be converted into a numerical format to be used effectively."
   ]
  },
  {
   "cell_type": "code",
   "execution_count": 60,
   "id": "9f5bfdcb-1a0c-4c82-8dc9-dee6830f1dcc",
   "metadata": {
    "tags": []
   },
   "outputs": [
    {
     "name": "stdout",
     "output_type": "stream",
     "text": [
      "     Fresh   Milk  Grocery  Frozen  Detergents_Paper  Delicassen  Region  \\\n",
      "0    12669   9656     7561     214              2674        1338       3   \n",
      "1     7057   9810     9568    1762              3293        1776       3   \n",
      "2     6353   8808     7684    2405              3516        7844       3   \n",
      "3    13265   1196     4221    6404               507        1788       3   \n",
      "4    22615   5410     7198    3915              1777        5185       3   \n",
      "..     ...    ...      ...     ...               ...         ...     ...   \n",
      "435  29703  12051    16027   13135               182        2204       3   \n",
      "436  39228   1431      764    4510                93        2346       3   \n",
      "437  14531  15488    30243     437             14841        1867       3   \n",
      "438  10290   1981     2232    1038               168        2125       3   \n",
      "439   2787   1698     2510      65               477          52       3   \n",
      "\n",
      "     Channel_1  Channel_2  \n",
      "0        False       True  \n",
      "1        False       True  \n",
      "2        False       True  \n",
      "3         True      False  \n",
      "4        False       True  \n",
      "..         ...        ...  \n",
      "435       True      False  \n",
      "436       True      False  \n",
      "437      False       True  \n",
      "438       True      False  \n",
      "439       True      False  \n",
      "\n",
      "[440 rows x 9 columns]\n"
     ]
    }
   ],
   "source": [
    "# Perform one-hot encoding\n",
    "from sklearn.preprocessing import OneHotEncoder\n",
    "\n",
    "# Identify the categorical columns\n",
    "categorical_columns = ['Channel']\n",
    "\n",
    "# Perform one-hot encoding using pandas\n",
    "df_encoded = pd.get_dummies(df, columns=categorical_columns)\n",
    "\n",
    "# Display the encoded DataFrame\n",
    "print(df_encoded)"
   ]
  },
  {
   "cell_type": "markdown",
   "id": "a68cd8dd-189e-4857-bc48-f257fdee84d0",
   "metadata": {},
   "source": [
    "# Exploratory Data Analysis"
   ]
  },
  {
   "cell_type": "markdown",
   "id": "ead20014-6691-49d7-9e64-e8368a1f6d92",
   "metadata": {},
   "source": [
    "## Descriptive Statistics"
   ]
  },
  {
   "cell_type": "code",
   "execution_count": 64,
   "id": "e2817692-786e-4e38-94fe-8031204de201",
   "metadata": {
    "tags": []
   },
   "outputs": [
    {
     "data": {
      "text/html": [
       "<div>\n",
       "<style scoped>\n",
       "    .dataframe tbody tr th:only-of-type {\n",
       "        vertical-align: middle;\n",
       "    }\n",
       "\n",
       "    .dataframe tbody tr th {\n",
       "        vertical-align: top;\n",
       "    }\n",
       "\n",
       "    .dataframe thead th {\n",
       "        text-align: right;\n",
       "    }\n",
       "</style>\n",
       "<table border=\"1\" class=\"dataframe\">\n",
       "  <thead>\n",
       "    <tr style=\"text-align: right;\">\n",
       "      <th></th>\n",
       "      <th>Fresh</th>\n",
       "      <th>Milk</th>\n",
       "      <th>Grocery</th>\n",
       "      <th>Frozen</th>\n",
       "      <th>Detergents_Paper</th>\n",
       "      <th>Delicassen</th>\n",
       "      <th>Region</th>\n",
       "    </tr>\n",
       "  </thead>\n",
       "  <tbody>\n",
       "    <tr>\n",
       "      <th>count</th>\n",
       "      <td>440.000000</td>\n",
       "      <td>440.000000</td>\n",
       "      <td>440.000000</td>\n",
       "      <td>440.000000</td>\n",
       "      <td>440.000000</td>\n",
       "      <td>440.000000</td>\n",
       "      <td>440.000000</td>\n",
       "    </tr>\n",
       "    <tr>\n",
       "      <th>mean</th>\n",
       "      <td>12000.297727</td>\n",
       "      <td>5796.265909</td>\n",
       "      <td>7951.277273</td>\n",
       "      <td>3071.931818</td>\n",
       "      <td>2881.493182</td>\n",
       "      <td>1524.870455</td>\n",
       "      <td>2.543182</td>\n",
       "    </tr>\n",
       "    <tr>\n",
       "      <th>std</th>\n",
       "      <td>12647.328865</td>\n",
       "      <td>7380.377175</td>\n",
       "      <td>9503.162829</td>\n",
       "      <td>4854.673333</td>\n",
       "      <td>4767.854448</td>\n",
       "      <td>2820.105937</td>\n",
       "      <td>0.774272</td>\n",
       "    </tr>\n",
       "    <tr>\n",
       "      <th>min</th>\n",
       "      <td>3.000000</td>\n",
       "      <td>55.000000</td>\n",
       "      <td>3.000000</td>\n",
       "      <td>25.000000</td>\n",
       "      <td>3.000000</td>\n",
       "      <td>3.000000</td>\n",
       "      <td>1.000000</td>\n",
       "    </tr>\n",
       "    <tr>\n",
       "      <th>25%</th>\n",
       "      <td>3127.750000</td>\n",
       "      <td>1533.000000</td>\n",
       "      <td>2153.000000</td>\n",
       "      <td>742.250000</td>\n",
       "      <td>256.750000</td>\n",
       "      <td>408.250000</td>\n",
       "      <td>2.000000</td>\n",
       "    </tr>\n",
       "    <tr>\n",
       "      <th>50%</th>\n",
       "      <td>8504.000000</td>\n",
       "      <td>3627.000000</td>\n",
       "      <td>4755.500000</td>\n",
       "      <td>1526.000000</td>\n",
       "      <td>816.500000</td>\n",
       "      <td>965.500000</td>\n",
       "      <td>3.000000</td>\n",
       "    </tr>\n",
       "    <tr>\n",
       "      <th>75%</th>\n",
       "      <td>16933.750000</td>\n",
       "      <td>7190.250000</td>\n",
       "      <td>10655.750000</td>\n",
       "      <td>3554.250000</td>\n",
       "      <td>3922.000000</td>\n",
       "      <td>1820.250000</td>\n",
       "      <td>3.000000</td>\n",
       "    </tr>\n",
       "    <tr>\n",
       "      <th>max</th>\n",
       "      <td>112151.000000</td>\n",
       "      <td>73498.000000</td>\n",
       "      <td>92780.000000</td>\n",
       "      <td>60869.000000</td>\n",
       "      <td>40827.000000</td>\n",
       "      <td>47943.000000</td>\n",
       "      <td>3.000000</td>\n",
       "    </tr>\n",
       "  </tbody>\n",
       "</table>\n",
       "</div>"
      ],
      "text/plain": [
       "               Fresh          Milk       Grocery        Frozen  \\\n",
       "count     440.000000    440.000000    440.000000    440.000000   \n",
       "mean    12000.297727   5796.265909   7951.277273   3071.931818   \n",
       "std     12647.328865   7380.377175   9503.162829   4854.673333   \n",
       "min         3.000000     55.000000      3.000000     25.000000   \n",
       "25%      3127.750000   1533.000000   2153.000000    742.250000   \n",
       "50%      8504.000000   3627.000000   4755.500000   1526.000000   \n",
       "75%     16933.750000   7190.250000  10655.750000   3554.250000   \n",
       "max    112151.000000  73498.000000  92780.000000  60869.000000   \n",
       "\n",
       "       Detergents_Paper    Delicassen      Region  \n",
       "count        440.000000    440.000000  440.000000  \n",
       "mean        2881.493182   1524.870455    2.543182  \n",
       "std         4767.854448   2820.105937    0.774272  \n",
       "min            3.000000      3.000000    1.000000  \n",
       "25%          256.750000    408.250000    2.000000  \n",
       "50%          816.500000    965.500000    3.000000  \n",
       "75%         3922.000000   1820.250000    3.000000  \n",
       "max        40827.000000  47943.000000    3.000000  "
      ]
     },
     "execution_count": 64,
     "metadata": {},
     "output_type": "execute_result"
    }
   ],
   "source": [
    "df_encoded.describe()"
   ]
  },
  {
   "cell_type": "code",
   "execution_count": 116,
   "id": "17ede356-6bdd-4ed9-9570-6ca777916980",
   "metadata": {
    "tags": []
   },
   "outputs": [
    {
     "name": "stdout",
     "output_type": "stream",
     "text": [
      "        Fresh      Milk   Grocery    Frozen  Detergents_Paper  Delicassen  \\\n",
      "0    0.052933  0.523568 -0.041115 -0.589367         -0.043569   -0.066339   \n",
      "1   -0.391302  0.544458  0.170318 -0.270136          0.086407    0.089151   \n",
      "2   -0.447029  0.408538 -0.028157 -0.137536          0.133232    2.243293   \n",
      "3    0.100111 -0.624020 -0.392977  0.687144         -0.498588    0.093411   \n",
      "4    0.840239 -0.052396 -0.079356  0.173859         -0.231918    1.299347   \n",
      "..        ...       ...       ...       ...               ...         ...   \n",
      "435  1.401312  0.848446  0.850760  2.075222         -0.566831    0.241091   \n",
      "436  2.155293 -0.592142 -0.757165  0.296561         -0.585519    0.291501   \n",
      "437  0.200326  1.314671  2.348386 -0.543380          2.511218    0.121456   \n",
      "438 -0.135384 -0.517536 -0.602514 -0.419441         -0.569770    0.213046   \n",
      "439 -0.729307 -0.555924 -0.573227 -0.620094         -0.504888   -0.522869   \n",
      "\n",
      "     Channel_1  Channel_2  Region  \n",
      "0    -1.448652   1.448652       3  \n",
      "1    -1.448652   1.448652       3  \n",
      "2    -1.448652   1.448652       3  \n",
      "3     0.690297  -0.690297       3  \n",
      "4    -1.448652   1.448652       3  \n",
      "..         ...        ...     ...  \n",
      "435   0.690297  -0.690297       3  \n",
      "436   0.690297  -0.690297       3  \n",
      "437  -1.448652   1.448652       3  \n",
      "438   0.690297  -0.690297       3  \n",
      "439   0.690297  -0.690297       3  \n",
      "\n",
      "[440 rows x 9 columns]\n"
     ]
    }
   ],
   "source": [
    "from sklearn.preprocessing import StandardScaler\n",
    "\n",
    "# Standardize the features\n",
    "scaler = StandardScaler()\n",
    "scaled_features = scaler.fit_transform(df_encoded.drop(columns=['Region']))  # Exclude the target variable\n",
    "scaled_df = pd.DataFrame(scaled_features, columns=df_encoded.drop(columns=['Region']).columns)\n",
    "\n",
    "# Concatenate scaled features and target\n",
    "final_df = pd.concat([scaled_df, df_encoded['Region']], axis=1)\n",
    "\n",
    "print(final_df)"
   ]
  },
  {
   "cell_type": "code",
   "execution_count": 118,
   "id": "d4f08660-2e73-4b32-a154-590a5e22f061",
   "metadata": {
    "tags": []
   },
   "outputs": [
    {
     "data": {
      "text/html": [
       "<div>\n",
       "<style scoped>\n",
       "    .dataframe tbody tr th:only-of-type {\n",
       "        vertical-align: middle;\n",
       "    }\n",
       "\n",
       "    .dataframe tbody tr th {\n",
       "        vertical-align: top;\n",
       "    }\n",
       "\n",
       "    .dataframe thead th {\n",
       "        text-align: right;\n",
       "    }\n",
       "</style>\n",
       "<table border=\"1\" class=\"dataframe\">\n",
       "  <thead>\n",
       "    <tr style=\"text-align: right;\">\n",
       "      <th></th>\n",
       "      <th>Fresh</th>\n",
       "      <th>Milk</th>\n",
       "      <th>Grocery</th>\n",
       "      <th>Frozen</th>\n",
       "      <th>Detergents_Paper</th>\n",
       "      <th>Delicassen</th>\n",
       "      <th>Channel_1</th>\n",
       "      <th>Channel_2</th>\n",
       "      <th>Region</th>\n",
       "    </tr>\n",
       "  </thead>\n",
       "  <tbody>\n",
       "    <tr>\n",
       "      <th>count</th>\n",
       "      <td>4.400000e+02</td>\n",
       "      <td>440.000000</td>\n",
       "      <td>4.400000e+02</td>\n",
       "      <td>4.400000e+02</td>\n",
       "      <td>4.400000e+02</td>\n",
       "      <td>4.400000e+02</td>\n",
       "      <td>4.400000e+02</td>\n",
       "      <td>4.400000e+02</td>\n",
       "      <td>440.000000</td>\n",
       "    </tr>\n",
       "    <tr>\n",
       "      <th>mean</th>\n",
       "      <td>-3.431598e-17</td>\n",
       "      <td>0.000000</td>\n",
       "      <td>-4.037175e-17</td>\n",
       "      <td>3.633457e-17</td>\n",
       "      <td>2.422305e-17</td>\n",
       "      <td>-8.074349e-18</td>\n",
       "      <td>-1.614870e-17</td>\n",
       "      <td>1.614870e-17</td>\n",
       "      <td>2.543182</td>\n",
       "    </tr>\n",
       "    <tr>\n",
       "      <th>std</th>\n",
       "      <td>1.001138e+00</td>\n",
       "      <td>1.001138</td>\n",
       "      <td>1.001138e+00</td>\n",
       "      <td>1.001138e+00</td>\n",
       "      <td>1.001138e+00</td>\n",
       "      <td>1.001138e+00</td>\n",
       "      <td>1.001138e+00</td>\n",
       "      <td>1.001138e+00</td>\n",
       "      <td>0.774272</td>\n",
       "    </tr>\n",
       "    <tr>\n",
       "      <th>min</th>\n",
       "      <td>-9.496831e-01</td>\n",
       "      <td>-0.778795</td>\n",
       "      <td>-8.373344e-01</td>\n",
       "      <td>-6.283430e-01</td>\n",
       "      <td>-6.044165e-01</td>\n",
       "      <td>-5.402644e-01</td>\n",
       "      <td>-1.448652e+00</td>\n",
       "      <td>-6.902971e-01</td>\n",
       "      <td>1.000000</td>\n",
       "    </tr>\n",
       "    <tr>\n",
       "      <th>25%</th>\n",
       "      <td>-7.023339e-01</td>\n",
       "      <td>-0.578306</td>\n",
       "      <td>-6.108364e-01</td>\n",
       "      <td>-4.804306e-01</td>\n",
       "      <td>-5.511349e-01</td>\n",
       "      <td>-3.964005e-01</td>\n",
       "      <td>-1.448652e+00</td>\n",
       "      <td>-6.902971e-01</td>\n",
       "      <td>2.000000</td>\n",
       "    </tr>\n",
       "    <tr>\n",
       "      <th>50%</th>\n",
       "      <td>-2.767602e-01</td>\n",
       "      <td>-0.294258</td>\n",
       "      <td>-3.366684e-01</td>\n",
       "      <td>-3.188045e-01</td>\n",
       "      <td>-4.336004e-01</td>\n",
       "      <td>-1.985766e-01</td>\n",
       "      <td>6.902971e-01</td>\n",
       "      <td>-6.902971e-01</td>\n",
       "      <td>3.000000</td>\n",
       "    </tr>\n",
       "    <tr>\n",
       "      <th>75%</th>\n",
       "      <td>3.905226e-01</td>\n",
       "      <td>0.189092</td>\n",
       "      <td>2.849105e-01</td>\n",
       "      <td>9.946441e-02</td>\n",
       "      <td>2.184822e-01</td>\n",
       "      <td>1.048598e-01</td>\n",
       "      <td>6.902971e-01</td>\n",
       "      <td>1.448652e+00</td>\n",
       "      <td>3.000000</td>\n",
       "    </tr>\n",
       "    <tr>\n",
       "      <th>max</th>\n",
       "      <td>7.927738e+00</td>\n",
       "      <td>9.183650</td>\n",
       "      <td>8.936528e+00</td>\n",
       "      <td>1.191900e+01</td>\n",
       "      <td>7.967672e+00</td>\n",
       "      <td>1.647845e+01</td>\n",
       "      <td>6.902971e-01</td>\n",
       "      <td>1.448652e+00</td>\n",
       "      <td>3.000000</td>\n",
       "    </tr>\n",
       "  </tbody>\n",
       "</table>\n",
       "</div>"
      ],
      "text/plain": [
       "              Fresh        Milk       Grocery        Frozen  Detergents_Paper  \\\n",
       "count  4.400000e+02  440.000000  4.400000e+02  4.400000e+02      4.400000e+02   \n",
       "mean  -3.431598e-17    0.000000 -4.037175e-17  3.633457e-17      2.422305e-17   \n",
       "std    1.001138e+00    1.001138  1.001138e+00  1.001138e+00      1.001138e+00   \n",
       "min   -9.496831e-01   -0.778795 -8.373344e-01 -6.283430e-01     -6.044165e-01   \n",
       "25%   -7.023339e-01   -0.578306 -6.108364e-01 -4.804306e-01     -5.511349e-01   \n",
       "50%   -2.767602e-01   -0.294258 -3.366684e-01 -3.188045e-01     -4.336004e-01   \n",
       "75%    3.905226e-01    0.189092  2.849105e-01  9.946441e-02      2.184822e-01   \n",
       "max    7.927738e+00    9.183650  8.936528e+00  1.191900e+01      7.967672e+00   \n",
       "\n",
       "         Delicassen     Channel_1     Channel_2      Region  \n",
       "count  4.400000e+02  4.400000e+02  4.400000e+02  440.000000  \n",
       "mean  -8.074349e-18 -1.614870e-17  1.614870e-17    2.543182  \n",
       "std    1.001138e+00  1.001138e+00  1.001138e+00    0.774272  \n",
       "min   -5.402644e-01 -1.448652e+00 -6.902971e-01    1.000000  \n",
       "25%   -3.964005e-01 -1.448652e+00 -6.902971e-01    2.000000  \n",
       "50%   -1.985766e-01  6.902971e-01 -6.902971e-01    3.000000  \n",
       "75%    1.048598e-01  6.902971e-01  1.448652e+00    3.000000  \n",
       "max    1.647845e+01  6.902971e-01  1.448652e+00    3.000000  "
      ]
     },
     "execution_count": 118,
     "metadata": {},
     "output_type": "execute_result"
    }
   ],
   "source": [
    "final_df.describe()"
   ]
  },
  {
   "cell_type": "markdown",
   "id": "17dac0c1-8146-4af8-a7e7-00cc15ea91e7",
   "metadata": {},
   "source": [
    "## Correlation Analysis"
   ]
  },
  {
   "cell_type": "code",
   "execution_count": 123,
   "id": "3de61364-50ce-4fb2-9a8c-e55bceb6ef8f",
   "metadata": {
    "tags": []
   },
   "outputs": [
    {
     "data": {
      "image/png": "[encoded data removed]",
      "text/plain": [
       "<Figure size 1200x800 with 2 Axes>"
      ]
     },
     "metadata": {},
     "output_type": "display_data"
    }
   ],
   "source": [
    "# Calculate correlation matrix\n",
    "corr_matrix = final_df.corr()\n",
    "\n",
    "# Visualize the correlation matrix using a heatmap\n",
    "plt.figure(figsize=(12, 8))\n",
    "sns.heatmap(corr_matrix, annot=False, fmt='.2f', cmap='coolwarm')\n",
    "plt.title('Correlation Matrix')\n",
    "plt.show()"
   ]
  },
  {
   "cell_type": "code",
   "execution_count": 125,
   "id": "7b205846-c450-43c2-8b7a-53ef1cbb6dc2",
   "metadata": {
    "tags": []
   },
   "outputs": [
    {
     "name": "stdout",
     "output_type": "stream",
     "text": [
      "Region              1.000000\n",
      "Channel_2           0.062028\n",
      "Fresh               0.055287\n",
      "Delicassen          0.045212\n",
      "Milk                0.032288\n",
      "Grocery             0.007696\n",
      "Detergents_Paper   -0.001483\n",
      "Frozen             -0.021044\n",
      "Channel_1          -0.062028\n",
      "Name: Region, dtype: float64\n",
      "Strong Correlations with 'Region':\n",
      "Region    1.0\n",
      "Name: Region, dtype: float64\n"
     ]
    }
   ],
   "source": [
    "# Focus on correlations with the target variable 'Region'\n",
    "target_corr = corr_matrix['Region'].sort_values(ascending=False)\n",
    "print(target_corr)\n",
    "\n",
    "# Determine strong correlations (absolute value > 0.5)\n",
    "strong_corrs = target_corr[abs(target_corr) > 0.5]\n",
    "print(\"Strong Correlations with 'Region':\")\n",
    "print(strong_corrs)"
   ]
  },
  {
   "cell_type": "markdown",
   "id": "c5d7b9e2-0df7-47e8-ace0-5eeca61bcb23",
   "metadata": {},
   "source": [
    "**No variables have a strong correlation with `Region`.**"
   ]
  },
  {
   "cell_type": "markdown",
   "id": "3026d44c-5196-4294-97ab-6fc60af462fd",
   "metadata": {
    "tags": []
   },
   "source": [
    "## Covariance Analysis\n",
    "* Covariance measures the degree to which two variables change together. It helps to understand the direction of the linear relationship between variables. \n",
    "* When two variables have a high positive covariance, it indicates that they tend to increase (or decrease) together.\n",
    "* When two variables have a high negative covariance, it indicates that they tend to move in opposite directions."
   ]
  },
  {
   "cell_type": "code",
   "execution_count": 129,
   "id": "7fc35ae2-d28c-4d22-b190-5ec7d08f00dc",
   "metadata": {
    "tags": []
   },
   "outputs": [
    {
     "name": "stdout",
     "output_type": "stream",
     "text": [
      "Covariance Matrix:\n",
      "                     Fresh      Milk   Grocery    Frozen  Detergents_Paper  \\\n",
      "Fresh             1.002278  0.100739 -0.011881  0.346669         -0.102185   \n",
      "Milk              0.100739  1.002278  0.729994  0.124276          0.663323   \n",
      "Grocery          -0.011881  0.729994  1.002278 -0.040284          0.926747   \n",
      "Frozen            0.346669  0.124276 -0.040284  1.002278         -0.131825   \n",
      "Detergents_Paper -0.102185  0.663323  0.926747 -0.131825          1.002278   \n",
      "Delicassen        0.245247  0.407294  0.205965  0.391838          0.069449   \n",
      "Channel_1         0.169557 -0.461770 -0.610179  0.202506         -0.637475   \n",
      "Channel_2        -0.169557  0.461770  0.610179 -0.202506          0.637475   \n",
      "\n",
      "                  Delicassen  Channel_1  Channel_2  \n",
      "Fresh               0.245247   0.169557  -0.169557  \n",
      "Milk                0.407294  -0.461770   0.461770  \n",
      "Grocery             0.205965  -0.610179   0.610179  \n",
      "Frozen              0.391838   0.202506  -0.202506  \n",
      "Detergents_Paper    0.069449  -0.637475   0.637475  \n",
      "Delicassen          1.002278  -0.056139   0.056139  \n",
      "Channel_1          -0.056139   1.002278  -1.002278  \n",
      "Channel_2           0.056139  -1.002278   1.002278  \n"
     ]
    }
   ],
   "source": [
    "# Compute the covariance matrix\n",
    "cov_matrix = np.cov(scaled_df.T)  # Transpose to get variables as columns\n",
    "cov_df = pd.DataFrame(cov_matrix, index=scaled_df.columns, columns=scaled_df.columns)\n",
    "\n",
    "# Display the covariance matrix\n",
    "print(\"Covariance Matrix:\")\n",
    "print(cov_df)"
   ]
  },
  {
   "cell_type": "code",
   "execution_count": 133,
   "id": "c5f29022-50d8-4ac8-9f37-e4356f04a68a",
   "metadata": {
    "tags": []
   },
   "outputs": [
    {
     "name": "stdout",
     "output_type": "stream",
     "text": [
      "\n",
      "High Positive Covariance Pairs:\n",
      "Grocery           Milk                0.729994\n",
      "Detergents_Paper  Milk                0.663323\n",
      "                  Grocery             0.926747\n",
      "Channel_2         Grocery             0.610179\n",
      "                  Detergents_Paper    0.637475\n",
      "dtype: float64\n",
      "\n",
      "High Negative Covariance Pairs:\n",
      "Channel_1  Grocery            -0.610179\n",
      "           Detergents_Paper   -0.637475\n",
      "           Channel_2          -1.002278\n",
      "dtype: float64\n"
     ]
    }
   ],
   "source": [
    "# Set thresholds for high positive and negative covariance\n",
    "positive_threshold = 0.5\n",
    "negative_threshold = -0.5\n",
    "\n",
    "# Find pairs with high positive covariance\n",
    "high_positive_cov = cov_df[cov_df > positive_threshold]\n",
    "positive_pairs = high_positive_cov.unstack().dropna()\n",
    "\n",
    "# Find pairs with high negative covariance\n",
    "high_negative_cov = cov_df[cov_df < negative_threshold]\n",
    "negative_pairs = high_negative_cov.unstack().dropna()\n",
    "\n",
    "# Remove duplicate pairs (e.g., (A, B) and (B, A))\n",
    "positive_pairs = positive_pairs[positive_pairs.index.get_level_values(0) < positive_pairs.index.get_level_values(1)]\n",
    "negative_pairs = negative_pairs[negative_pairs.index.get_level_values(0) < negative_pairs.index.get_level_values(1)]\n",
    "\n",
    "print(\"\\nHigh Positive Covariance Pairs:\")\n",
    "print(positive_pairs)\n",
    "\n",
    "print(\"\\nHigh Negative Covariance Pairs:\")\n",
    "print(negative_pairs)"
   ]
  },
  {
   "cell_type": "markdown",
   "id": "ee9fa042-8358-4dda-9fa4-b73afc720d2d",
   "metadata": {},
   "source": [
    "* Features that are highly correlated (covariance close to ±1) often provide redundant information. Hence, choose to include only one of these in the model.\n",
    "* To further validate feature relevance, consider using feature importance measures from models like Random Forests or techniques like Recursive Feature Elimination (RFE).\n",
    "* Initial feature selection: Milk; Grocery (or Detergents_Paper, but not both); Channel_2 (binary encoding); Channel_1 (binary encoding)"
   ]
  },
  {
   "cell_type": "markdown",
   "id": "b6015c9f-59fb-4471-9314-c6dbfda9433d",
   "metadata": {},
   "source": [
    "# Train and Evaluate Model"
   ]
  },
  {
   "cell_type": "code",
   "execution_count": 147,
   "id": "c2130408-9048-40da-8969-d4f7367ad860",
   "metadata": {
    "tags": []
   },
   "outputs": [
    {
     "name": "stdout",
     "output_type": "stream",
     "text": [
      "Accuracy: 0.6931818181818182\n",
      "              precision    recall  f1-score   support\n",
      "\n",
      "           1       0.14      0.11      0.12         9\n",
      "           2       0.00      0.00      0.00         5\n",
      "           3       0.82      0.81      0.82        74\n",
      "\n",
      "    accuracy                           0.69        88\n",
      "   macro avg       0.32      0.31      0.31        88\n",
      "weighted avg       0.71      0.69      0.70        88\n",
      "\n"
     ]
    }
   ],
   "source": [
    "from sklearn.model_selection import train_test_split, cross_val_score\n",
    "from sklearn.neighbors import KNeighborsClassifier\n",
    "from sklearn.metrics import accuracy_score, classification_report\n",
    "\n",
    "# Features selected based on covariance analysis\n",
    "selected_features = ['Milk', 'Grocery', 'Channel_1', 'Channel_2']\n",
    "\n",
    "# Split the data into training and testing sets\n",
    "X_train, X_test, y_train, y_test = train_test_split(final_df[selected_features], final_df['Region'], test_size=0.2, random_state=42)\n",
    "\n",
    "# Initialize and train the KNN model\n",
    "knn = KNeighborsClassifier(n_neighbors=5)\n",
    "knn.fit(X_train, y_train)\n",
    "\n",
    "# Predict and evaluate the model\n",
    "y_pred = knn.predict(X_test)\n",
    "print(f\"Accuracy: {accuracy_score(y_test, y_pred)}\")\n",
    "print(classification_report(y_test, y_pred))"
   ]
  },
  {
   "cell_type": "code",
   "execution_count": 149,
   "id": "2e95b816-b4e5-4ba0-8f43-48c756dd96e6",
   "metadata": {
    "tags": []
   },
   "outputs": [
    {
     "name": "stdout",
     "output_type": "stream",
     "text": [
      "Cross-Validation Accuracy: 0.6386363636363637 ± 0.042152811343162254\n"
     ]
    }
   ],
   "source": [
    "# Cross-validation for robustness\n",
    "cv_scores = cross_val_score(knn, final_df[selected_features], final_df['Region'], cv=5)\n",
    "print(f\"Cross-Validation Accuracy: {cv_scores.mean()} ± {cv_scores.std()}\")"
   ]
  },
  {
   "cell_type": "markdown",
   "id": "98de4934-4c5a-416d-ac81-0a4c0fbea501",
   "metadata": {},
   "source": [
    "* Overall accuracy: 69.3% \n",
    "* Cross-validation accuracy: 63.9% \n",
    "* **The poor metrics for classes 1 and 2 (Regions 1 and 2) highlight that the model is not handling all classes well.**"
   ]
  },
  {
   "cell_type": "markdown",
   "id": "867d4794-42dd-448c-9166-c977bb2e4c06",
   "metadata": {},
   "source": [
    "## Address Class Imbalance with SMOTE"
   ]
  },
  {
   "cell_type": "code",
   "execution_count": 161,
   "id": "84ffecf0-43b8-4dd6-9037-3bbb1fb883b0",
   "metadata": {
    "tags": []
   },
   "outputs": [
    {
     "name": "stdout",
     "output_type": "stream",
     "text": [
      "Accuracy: 0.7315789473684211\n",
      "              precision    recall  f1-score   support\n",
      "\n",
      "           1       0.66      0.89      0.76        66\n",
      "           2       0.81      0.86      0.83        72\n",
      "           3       0.75      0.35      0.47        52\n",
      "\n",
      "    accuracy                           0.73       190\n",
      "   macro avg       0.74      0.70      0.69       190\n",
      "weighted avg       0.74      0.73      0.71       190\n",
      "\n",
      "Cross-Validation Accuracy: 0.6751099972152603 ± 0.02215178299704438\n"
     ]
    }
   ],
   "source": [
    "from imblearn.over_sampling import SMOTE\n",
    "\n",
    "# Split the data into features and target\n",
    "X = final_df.drop(columns=['Region'])\n",
    "y = final_df['Region']\n",
    "\n",
    "# Apply SMOTE to balance the classes\n",
    "smote = SMOTE(random_state=42)\n",
    "X_resampled, y_resampled = smote.fit_resample(X, y)\n",
    "\n",
    "# Split into training and testing sets\n",
    "X_train, X_test, y_train, y_test = train_test_split(X_resampled, y_resampled, test_size=0.2, random_state=42)\n",
    "\n",
    "# Initialize and train the KNN model\n",
    "knn = KNeighborsClassifier(n_neighbors=5)\n",
    "knn.fit(X_train, y_train)\n",
    "\n",
    "# Predict and evaluate the model\n",
    "y_pred = knn.predict(X_test)\n",
    "print(f\"Accuracy: {accuracy_score(y_test, y_pred)}\")\n",
    "print(classification_report(y_test, y_pred))\n",
    "\n",
    "# Cross-validation\n",
    "cv_scores = cross_val_score(knn, X_resampled, y_resampled, cv=5)\n",
    "print(f\"Cross-Validation Accuracy: {cv_scores.mean()} ± {cv_scores.std()}\")"
   ]
  },
  {
   "cell_type": "markdown",
   "id": "b4e5d3da-6d60-401c-894e-823c5d22fd75",
   "metadata": {},
   "source": [
    "* Overall accuracy: 73.2% \n",
    "* Cross-validation accuracy: 67.5% \n",
    "* **The overall performance has improved, but the discrepancy in class 3's (Region) recall highlights an area for further enhancement.**"
   ]
  },
  {
   "cell_type": "code",
   "execution_count": null,
   "id": "14a23cd9-c293-4959-a6da-39c41e6866ea",
   "metadata": {},
   "outputs": [],
   "source": []
  }
 ],
 "metadata": {
  "kernelspec": {
   "display_name": "Python 3 (ipykernel)",
   "language": "python",
   "name": "python3"
  },
  "language_info": {
   "codemirror_mode": {
    "name": "ipython",
    "version": 3
   },
   "file_extension": ".py",
   "mimetype": "text/x-python",
   "name": "python",
   "nbconvert_exporter": "python",
   "pygments_lexer": "ipython3",
   "version": "3.11.8"
  }
 },
 "nbformat": 4,
 "nbformat_minor": 5
}
